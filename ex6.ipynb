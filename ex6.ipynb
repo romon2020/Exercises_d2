{
 "cells": [
  {
   "cell_type": "code",
   "execution_count": 4,
   "metadata": {},
   "outputs": [
    {
     "name": "stdout",
     "output_type": "stream",
     "text": [
      "ABCDEFGHIJKLMNOPQRSTUVWXYZ\n",
      "NOPQRSTUVWXYZABCDEFGHIJKLM\n"
     ]
    }
   ],
   "source": [
    "#Exercise 6.2\n",
    "\n",
    "list1=\"ABCDEFGHIJKLMNOPQRSTUVWXYZ\"\n",
    "print(list1)\n",
    "interval=13\n",
    "new_position=0\n",
    "list2=[]\n",
    "for ch in list1:\n",
    "    new_position=list1.index(ch)+interval\n",
    "    if new_position>25:\n",
    "        new_position=(list1.index(ch)+interval)%len(list1)\n",
    "    list2.append(list1[new_position])\n",
    "print(''.join(list2))"
   ]
  },
  {
   "cell_type": "code",
   "execution_count": 1,
   "metadata": {},
   "outputs": [
    {
     "name": "stdout",
     "output_type": "stream",
     "text": [
      "3\n"
     ]
    }
   ],
   "source": [
    "# Counting wood.\n",
    "def count_words(text):                     #1st we have to clean our data text from these punctuation marks (.,?), otherwise it will also\n",
    "    for char in '.,?\\n':                   #be counted as a word.\n",
    "        text=text.replace(char, ' ')       #then, I have made everything a lower case, so that there is not any confusion due to case sensitivity\n",
    "        text=text.lower()                  #during counting\n",
    "   # words=print(text)                     \n",
    "    word_list= text.split()\n",
    "    #dictionary = {}   #declaration of an empty dictionary to store the final result\n",
    "    count=0\n",
    "    for word in word_list:\n",
    "        if word==\"wood\":\n",
    "            count+=1\n",
    "    print(count)\n",
    "    \n",
    "\n",
    "\n",
    "    \n",
    "count_words(\"\"\"How much wood would a woodchuck chuck\n",
    "If a woodchuck could chuck wood?\n",
    "He would chuck, he would, as much as he could,\n",
    "And chuck as much as a woodchuck would\n",
    "If a woodchuck could chuck wood\n",
    "\"\"\" )"
   ]
  },
  {
   "cell_type": "code",
   "execution_count": null,
   "metadata": {},
   "outputs": [],
   "source": []
  }
 ],
 "metadata": {
  "kernelspec": {
   "display_name": "Python 3",
   "language": "python",
   "name": "python3"
  },
  "language_info": {
   "codemirror_mode": {
    "name": "ipython",
    "version": 3
   },
   "file_extension": ".py",
   "mimetype": "text/x-python",
   "name": "python",
   "nbconvert_exporter": "python",
   "pygments_lexer": "ipython3",
   "version": "3.8.5"
  }
 },
 "nbformat": 4,
 "nbformat_minor": 4
}
